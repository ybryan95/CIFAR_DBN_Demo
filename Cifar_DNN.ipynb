{
  "nbformat": 4,
  "nbformat_minor": 0,
  "metadata": {
    "colab": {
      "provenance": []
    },
    "kernelspec": {
      "name": "python3",
      "display_name": "Python 3"
    },
    "language_info": {
      "name": "python"
    }
  },
  "cells": [
    {
      "cell_type": "code",
      "execution_count": null,
      "metadata": {
        "colab": {
          "base_uri": "https://localhost:8080/"
        },
        "id": "q0tEXbA-dSYy",
        "outputId": "785e97c8-de0e-486f-b4af-41d8e7379d6e"
      },
      "outputs": [
        {
          "output_type": "stream",
          "name": "stdout",
          "text": [
            "Downloading data from https://www.cs.toronto.edu/~kriz/cifar-10-python.tar.gz\n",
            "170498071/170498071 [==============================] - 5s 0us/step\n"
          ]
        }
      ],
      "source": [
        "#download data\n",
        "from keras.datasets import cifar10"
      ]
    },
    {
      "cell_type": "code",
      "source": [
        "#load data\n",
        "(x_train, y_train), (x_test, y_test) = cifar10.load_data()"
      ],
      "metadata": {
        "id": "_A44ybYPdS-Q"
      },
      "execution_count": null,
      "outputs": []
    },
    {
      "cell_type": "code",
      "source": [
        "from keras.utils import to_categorical\n",
        "#normalize data, 255 is a max value a pixel can take in an RGB image\n",
        "x_train = x_train.astype('float32') / 255.0\n",
        "x_test = x_test.astype('float32') / 255.0\n",
        "\n",
        "#one-hot encoding\n",
        "y_train = to_categorical(y_train, num_classes=10)\n",
        "y_test = to_categorical(y_test, num_classes=10)\n"
      ],
      "metadata": {
        "id": "da0bxRgqdZiy"
      },
      "execution_count": null,
      "outputs": []
    },
    {
      "cell_type": "code",
      "source": [
        "#DBN Model\n",
        "from keras.models import Sequential\n",
        "from keras.layers import Conv2D, MaxPooling2D, Flatten, Dense, Dropout\n",
        "\n",
        "model = Sequential()\n",
        "#images are 32x32 pixels, RGB has 3 color channels\n",
        "model.add(Conv2D(32, (3, 3), activation='relu', input_shape=(32, 32, 3)))\n",
        "\n",
        "model.add(MaxPooling2D(pool_size=(2, 2)))\n",
        "model.add(Conv2D(64, (3, 3), activation='relu'))\n",
        "model.add(MaxPooling2D(pool_size=(2, 2)))\n",
        "\n",
        "#reshape 2d output to 1d vector\n",
        "model.add(Flatten())\n",
        "model.add(Dense(512, activation='relu'))\n",
        "model.add(Dropout(0.5))\n",
        "model.add(Dense(10, activation='softmax'))\n"
      ],
      "metadata": {
        "id": "AYIs8CLKeCQ5"
      },
      "execution_count": null,
      "outputs": []
    },
    {
      "cell_type": "code",
      "source": [
        "#loss function\n",
        "from keras.optimizers import Adam\n",
        "\n",
        "model.compile(optimizer=Adam(learning_rate=0.001),\n",
        "              loss='categorical_crossentropy',\n",
        "              metrics=['accuracy'])"
      ],
      "metadata": {
        "id": "liIFQVEXh9j_"
      },
      "execution_count": null,
      "outputs": []
    },
    {
      "cell_type": "code",
      "source": [
        "history = model.fit(x_train, y_train, batch_size=128, epochs=20,\n",
        "                    validation_data=(x_test, y_test))\n"
      ],
      "metadata": {
        "colab": {
          "base_uri": "https://localhost:8080/"
        },
        "id": "rJPdaDdfjEWw",
        "outputId": "20a67b9d-16ac-424e-f5b1-fcf04e2d8242"
      },
      "execution_count": null,
      "outputs": [
        {
          "output_type": "stream",
          "name": "stdout",
          "text": [
            "Epoch 1/20\n",
            "391/391 [==============================] - 79s 200ms/step - loss: 1.5879 - accuracy: 0.4239 - val_loss: 1.2750 - val_accuracy: 0.5483\n",
            "Epoch 2/20\n",
            "391/391 [==============================] - 80s 205ms/step - loss: 1.2222 - accuracy: 0.5673 - val_loss: 1.1000 - val_accuracy: 0.6213\n",
            "Epoch 3/20\n",
            "391/391 [==============================] - 77s 197ms/step - loss: 1.0708 - accuracy: 0.6250 - val_loss: 0.9849 - val_accuracy: 0.6617\n",
            "Epoch 4/20\n",
            "391/391 [==============================] - 78s 199ms/step - loss: 0.9729 - accuracy: 0.6557 - val_loss: 0.9494 - val_accuracy: 0.6662\n",
            "Epoch 5/20\n",
            "391/391 [==============================] - 79s 203ms/step - loss: 0.9044 - accuracy: 0.6866 - val_loss: 0.8744 - val_accuracy: 0.6967\n",
            "Epoch 6/20\n",
            "391/391 [==============================] - 78s 198ms/step - loss: 0.8430 - accuracy: 0.7034 - val_loss: 0.8440 - val_accuracy: 0.7100\n",
            "Epoch 7/20\n",
            "391/391 [==============================] - 77s 197ms/step - loss: 0.7753 - accuracy: 0.7274 - val_loss: 0.8122 - val_accuracy: 0.7216\n",
            "Epoch 8/20\n",
            "391/391 [==============================] - 83s 212ms/step - loss: 0.7270 - accuracy: 0.7460 - val_loss: 0.8156 - val_accuracy: 0.7216\n",
            "Epoch 9/20\n",
            "391/391 [==============================] - 80s 205ms/step - loss: 0.6880 - accuracy: 0.7570 - val_loss: 0.7863 - val_accuracy: 0.7316\n",
            "Epoch 10/20\n",
            "391/391 [==============================] - 77s 196ms/step - loss: 0.6385 - accuracy: 0.7758 - val_loss: 0.7927 - val_accuracy: 0.7296\n",
            "Epoch 11/20\n",
            "391/391 [==============================] - 81s 207ms/step - loss: 0.5949 - accuracy: 0.7911 - val_loss: 0.8204 - val_accuracy: 0.7274\n",
            "Epoch 12/20\n",
            "391/391 [==============================] - 81s 208ms/step - loss: 0.5569 - accuracy: 0.8040 - val_loss: 0.7934 - val_accuracy: 0.7388\n",
            "Epoch 13/20\n",
            "391/391 [==============================] - 80s 205ms/step - loss: 0.5169 - accuracy: 0.8190 - val_loss: 0.8060 - val_accuracy: 0.7343\n",
            "Epoch 14/20\n",
            "391/391 [==============================] - 78s 200ms/step - loss: 0.4775 - accuracy: 0.8309 - val_loss: 0.8101 - val_accuracy: 0.7445\n",
            "Epoch 15/20\n",
            "391/391 [==============================] - 78s 199ms/step - loss: 0.4507 - accuracy: 0.8405 - val_loss: 0.8063 - val_accuracy: 0.7385\n",
            "Epoch 16/20\n",
            "391/391 [==============================] - 74s 189ms/step - loss: 0.4252 - accuracy: 0.8483 - val_loss: 0.8190 - val_accuracy: 0.7405\n",
            "Epoch 17/20\n",
            "391/391 [==============================] - 77s 197ms/step - loss: 0.3942 - accuracy: 0.8597 - val_loss: 0.8461 - val_accuracy: 0.7437\n",
            "Epoch 18/20\n",
            "391/391 [==============================] - 79s 202ms/step - loss: 0.3654 - accuracy: 0.8698 - val_loss: 0.8499 - val_accuracy: 0.7399\n",
            "Epoch 19/20\n",
            "391/391 [==============================] - 79s 203ms/step - loss: 0.3422 - accuracy: 0.8780 - val_loss: 0.8765 - val_accuracy: 0.7403\n",
            "Epoch 20/20\n",
            "391/391 [==============================] - 77s 197ms/step - loss: 0.3224 - accuracy: 0.8859 - val_loss: 0.8933 - val_accuracy: 0.7477\n"
          ]
        }
      ]
    },
    {
      "cell_type": "code",
      "source": [
        "test_loss, test_acc = model.evaluate(x_test, y_test)\n",
        "print(f'Test accuracy: {test_acc}')\n",
        "\n"
      ],
      "metadata": {
        "colab": {
          "base_uri": "https://localhost:8080/"
        },
        "id": "cn0RVP4hjGZf",
        "outputId": "a890b5f8-80a3-4176-ff32-78f3e1349193"
      },
      "execution_count": null,
      "outputs": [
        {
          "output_type": "stream",
          "name": "stdout",
          "text": [
            "313/313 [==============================] - 5s 16ms/step - loss: 0.8933 - accuracy: 0.7477\n",
            "Test accuracy: 0.7476999759674072\n"
          ]
        }
      ]
    },
    {
      "cell_type": "code",
      "source": [
        "import matplotlib.pyplot as plt\n",
        "\n",
        "plt.figure(figsize=(12, 4))\n",
        "plt.subplot(1, 2, 1)\n",
        "plt.plot(history.history['accuracy'], label='Training accuracy')\n",
        "plt.plot(history.history['val_accuracy'], label='Validation accuracy')\n",
        "plt.xlabel('Epochs')\n",
        "plt.ylabel('Accuracy')\n",
        "plt.legend()\n",
        "\n",
        "plt.subplot(1, 2, 2)\n",
        "plt.plot(history.history['loss'], label='Training loss')\n",
        "plt.plot(history.history['val_loss'], label='Validation loss')\n",
        "plt.xlabel('Epochs')\n",
        "plt.ylabel('Loss')\n",
        "plt.legend()\n",
        "\n",
        "plt.show()\n"
      ],
      "metadata": {
        "colab": {
          "base_uri": "https://localhost:8080/",
          "height": 280
        },
        "id": "HbU4lxfBpqMo",
        "outputId": "7aadfb94-2fc7-44e5-960c-45761478d89b"
      },
      "execution_count": null,
      "outputs": [
        {
          "output_type": "display_data",
          "data": {
            "text/plain": [
              "<Figure size 864x288 with 2 Axes>"
            ],
            "image/png": "[encoded data removed]"
          },
          "metadata": {
            "needs_background": "light"
          }
        }
      ]
    },
    {
      "cell_type": "code",
      "source": [],
      "metadata": {
        "id": "KKECpiAVp_Qm"
      },
      "execution_count": null,
      "outputs": []
    }
  ]
}